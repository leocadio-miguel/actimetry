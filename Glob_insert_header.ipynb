{
  "nbformat": 4,
  "nbformat_minor": 0,
  "metadata": {
    "kernelspec": {
      "display_name": "Python 3",
      "language": "python",
      "name": "python3"
    },
    "language_info": {
      "codemirror_mode": {
        "name": "ipython",
        "version": 3
      },
      "file_extension": ".py",
      "mimetype": "text/x-python",
      "name": "python",
      "nbconvert_exporter": "python",
      "pygments_lexer": "ipython3",
      "version": "3.7.6"
    },
    "colab": {
      "name": "Glob_insert_header.ipynb",
      "provenance": [],
      "include_colab_link": true
    }
  },
  "cells": [
    {
      "cell_type": "markdown",
      "metadata": {
        "id": "view-in-github",
        "colab_type": "text"
      },
      "source": [
        "<a href=\"https://colab.research.google.com/github/leocadio-miguel/actimetry/blob/master/Glob_insert_header.ipynb\" target=\"_parent\"><img src=\"https://colab.research.google.com/assets/colab-badge.svg\" alt=\"Open In Colab\"/></a>"
      ]
    },
    {
      "cell_type": "code",
      "metadata": {
        "id": "oRwxhtQ1KXTs"
      },
      "source": [
        "import os\n",
        "import glob\n",
        "\n",
        "def prepend_multiple_lines(file_name, list_of_lines):\n",
        "    \"\"\"Insert given list of strings as a new lines at the beginning of a file\"\"\"\n",
        "    # create dummy file\n",
        "    dummy_file = file_name + '.bak'\n",
        "    # open given original file in read mode and dummy file in write mode\n",
        "    with open(file_name, 'r') as read_obj, open(dummy_file, 'w') as write_obj:\n",
        "        # read list of strings and write them to dummy file as lines\n",
        "        for line in list_of_lines:\n",
        "            write_obj.write(line + '\\n')\n",
        "        # Read lines from original file one by one and append them to the dummy file\n",
        "        for line in read_obj:\n",
        "            write_obj.write(line)\n",
        "    # remove original file\n",
        "    os.remove(file_name)\n",
        "    # Rename dummy file as the original file\n",
        "    os.rename(dummy_file, file_name)"
      ],
      "execution_count": null,
      "outputs": []
    },
    {
      "cell_type": "code",
      "metadata": {
        "id": "6l5yaXQFKXTy"
      },
      "source": [
        "list_of_lines = ['+-------------+ Condor Instruments Report +-------------+', 'SOFTWARE_VERSION : 1.0.10',  'SUBJECT_NAME : teste', 'SUBJECT_GENDER : Female', 'UBJECT_DATE_OF_BIRTH : 28/10/1979', 'UBJECT_DESCRIPTION : Pesquisa_LES_Gcontrole', 'DEVICE_ID : 3036', 'DEVICE_MODEL : ActTrust1', 'HARDWARE_VERSION : 3.5', 'FIRMWARE_VERSION : 3.8', 'MEMORY_SIZE : 7987712', 'LOG_SIZE : 704401', 'MEMORY_USAGE : 8.82 %', 'BATTERY_VOLTAGE : 4.19922', 'ERROR_FLAG : 0', 'ERROR_CODE : 0', 'POWER_DOWN_FLAG : 0', 'TAT_THRESHOLD : 1024', 'ORIENTATION : 0', 'MODE : PIM/TAT/ZCM', 'INTERVAL : 60', 'DATA_CORRECTION : 1', 'DATA_CORRECTION_DESCRIPTION : Lacuna tratada nos dados.', 'DATE_TIME: 16/07/2019 00:00:00', '+-------------------------------------------------------+']"
      ],
      "execution_count": null,
      "outputs": []
    },
    {
      "cell_type": "code",
      "metadata": {
        "scrolled": true,
        "id": "RbmwMG1xKXT2"
      },
      "source": [
        "filenames = sorted(glob.glob('*.txt'))\n",
        "\n",
        "for file_name in filenames:\n",
        "    prepend_multiple_lines(file_name, list_of_lines)"
      ],
      "execution_count": null,
      "outputs": []
    },
    {
      "cell_type": "code",
      "metadata": {
        "id": "ywqiyPmtKXT7"
      },
      "source": [
        ""
      ],
      "execution_count": null,
      "outputs": []
    }
  ]
}