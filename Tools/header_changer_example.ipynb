{
 "cells": [
  {
   "cell_type": "markdown",
   "metadata": {},
   "source": [
    "### For multiple files using Glob"
   ]
  },
  {
   "cell_type": "code",
   "execution_count": 50,
   "metadata": {
    "scrolled": true
   },
   "outputs": [],
   "source": [
    "import glob\n",
    "\n",
    "filenames = sorted(glob.glob('*.txt'))\n",
    "\n",
    "for f in filenames:\n",
    "\n",
    "    with open(f, \"rt\") as fin:\n",
    "        \n",
    "        with open('out' + f, \"wt\") as fout:\n",
    "            \n",
    "            for line in fin:\n",
    "                \n",
    "                fout.write(line.replace('POWER_DOWN_FLAG : 0', 'POWER_DOWN_FLAG : 1')\n",
    "                                .replace('SUBJECT_NAME : teste', 'SUBJECT_NAME : MARIO')\n",
    "                           "
   ]
  },
  {
   "cell_type": "markdown",
   "metadata": {},
   "source": [
    "### for a single file"
   ]
  },
  {
   "cell_type": "code",
   "execution_count": null,
   "metadata": {},
   "outputs": [],
   "source": [
    " with open(\"30919.txt\", \"rt\") as fin:\n",
    "        with open(\"out.txt\", \"wt\") as fout:\n",
    "            for line in fin:\n",
    "            fout.write(line.replace('POWER_DOWN_FLAG : 0', 'POWER_DOWN_FLAG : 1').replace('SUBJECT_NAME : teste', 'SUBJECT_NAME : MARIO'))\n",
    "            \n",
    "                       \n",
    "                       "
   ]
  }
 ],
 "metadata": {
  "kernelspec": {
   "display_name": "Python 3",
   "language": "python",
   "name": "python3"
  },
  "language_info": {
   "codemirror_mode": {
    "name": "ipython",
    "version": 3
   },
   "file_extension": ".py",
   "mimetype": "text/x-python",
   "name": "python",
   "nbconvert_exporter": "python",
   "pygments_lexer": "ipython3",
   "version": "3.7.6"
  }
 },
 "nbformat": 4,
 "nbformat_minor": 4
}
